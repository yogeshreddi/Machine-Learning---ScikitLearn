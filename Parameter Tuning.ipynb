{
 "cells": [
  {
   "cell_type": "code",
   "execution_count": 2,
   "metadata": {
    "collapsed": false
   },
   "outputs": [],
   "source": [
    "from sklearn.datasets import load_iris\n",
    "from sklearn.cross_validation import cross_val_score\n",
    "from sklearn.neighbors import KNeighborsClassifier\n",
    "import matplotlib.pyplot as plt\n",
    "%matplotlib inline"
   ]
  },
  {
   "cell_type": "code",
   "execution_count": 3,
   "metadata": {
    "collapsed": true
   },
   "outputs": [],
   "source": [
    "iris = load_iris()"
   ]
  },
  {
   "cell_type": "code",
   "execution_count": 4,
   "metadata": {
    "collapsed": true
   },
   "outputs": [],
   "source": [
    "x = iris.data\n",
    "y = iris.target"
   ]
  },
  {
   "cell_type": "code",
   "execution_count": 5,
   "metadata": {
    "collapsed": false
   },
   "outputs": [
    {
     "name": "stdout",
     "output_type": "stream",
     "text": [
      "[ 1.          0.93333333  1.          1.          0.86666667  0.93333333\n",
      "  0.93333333  1.          1.          1.        ]\n",
      "0.966666666667\n"
     ]
    }
   ],
   "source": [
    "knn = KNeighborsClassifier(n_neighbors=5)\n",
    "cv_scores = cross_val_score(knn,x,y,cv = 10,scoring='accuracy')\n",
    "print(cv_scores)\n",
    "print(cv_scores.mean())"
   ]
  },
  {
   "cell_type": "code",
   "execution_count": 6,
   "metadata": {
    "collapsed": false
   },
   "outputs": [
    {
     "name": "stdout",
     "output_type": "stream",
     "text": [
      "for no of neighbours = 2 the cv mean score is 0.953333\n",
      "for no of neighbours = 3 the cv mean score is 0.966667\n",
      "for no of neighbours = 4 the cv mean score is 0.966667\n",
      "for no of neighbours = 5 the cv mean score is 0.966667\n",
      "for no of neighbours = 6 the cv mean score is 0.966667\n",
      "for no of neighbours = 7 the cv mean score is 0.966667\n",
      "for no of neighbours = 8 the cv mean score is 0.966667\n",
      "for no of neighbours = 9 the cv mean score is 0.973333\n",
      "for no of neighbours = 10 the cv mean score is 0.966667\n",
      "for no of neighbours = 11 the cv mean score is 0.966667\n",
      "for no of neighbours = 12 the cv mean score is 0.973333\n",
      "for no of neighbours = 13 the cv mean score is 0.980000\n",
      "for no of neighbours = 14 the cv mean score is 0.973333\n",
      "for no of neighbours = 15 the cv mean score is 0.973333\n",
      "for no of neighbours = 16 the cv mean score is 0.973333\n",
      "for no of neighbours = 17 the cv mean score is 0.973333\n",
      "for no of neighbours = 18 the cv mean score is 0.980000\n",
      "for no of neighbours = 19 the cv mean score is 0.973333\n",
      "for no of neighbours = 20 the cv mean score is 0.980000\n",
      "for no of neighbours = 21 the cv mean score is 0.966667\n",
      "for no of neighbours = 22 the cv mean score is 0.966667\n",
      "for no of neighbours = 23 the cv mean score is 0.973333\n",
      "for no of neighbours = 24 the cv mean score is 0.960000\n",
      "for no of neighbours = 25 the cv mean score is 0.966667\n",
      "for no of neighbours = 26 the cv mean score is 0.960000\n",
      "for no of neighbours = 27 the cv mean score is 0.966667\n",
      "for no of neighbours = 28 the cv mean score is 0.953333\n",
      "for no of neighbours = 29 the cv mean score is 0.953333\n",
      "for no of neighbours = 30 the cv mean score is 0.953333\n",
      "for no of neighbours = 31 the cv mean score is 0.946667\n",
      "for no of neighbours = 32 the cv mean score is 0.946667\n",
      "for no of neighbours = 33 the cv mean score is 0.946667\n",
      "for no of neighbours = 34 the cv mean score is 0.946667\n",
      "for no of neighbours = 35 the cv mean score is 0.946667\n",
      "for no of neighbours = 36 the cv mean score is 0.946667\n",
      "for no of neighbours = 37 the cv mean score is 0.946667\n",
      "for no of neighbours = 38 the cv mean score is 0.946667\n",
      "for no of neighbours = 39 the cv mean score is 0.953333\n",
      "for no of neighbours = 40 the cv mean score is 0.953333\n",
      "for no of neighbours = 41 the cv mean score is 0.953333\n",
      "for no of neighbours = 42 the cv mean score is 0.953333\n",
      "for no of neighbours = 43 the cv mean score is 0.946667\n",
      "for no of neighbours = 44 the cv mean score is 0.940000\n",
      "for no of neighbours = 45 the cv mean score is 0.933333\n",
      "for no of neighbours = 46 the cv mean score is 0.933333\n",
      "for no of neighbours = 47 the cv mean score is 0.933333\n",
      "for no of neighbours = 48 the cv mean score is 0.933333\n",
      "for no of neighbours = 49 the cv mean score is 0.940000\n",
      "for no of neighbours = 50 the cv mean score is 0.926667\n",
      "for no of neighbours = 51 the cv mean score is 0.940000\n",
      "for no of neighbours = 52 the cv mean score is 0.933333\n",
      "for no of neighbours = 53 the cv mean score is 0.933333\n",
      "for no of neighbours = 54 the cv mean score is 0.920000\n",
      "for no of neighbours = 55 the cv mean score is 0.933333\n",
      "for no of neighbours = 56 the cv mean score is 0.906667\n",
      "for no of neighbours = 57 the cv mean score is 0.920000\n",
      "for no of neighbours = 58 the cv mean score is 0.913333\n",
      "for no of neighbours = 59 the cv mean score is 0.920000\n"
     ]
    }
   ],
   "source": [
    "k_range = range(2,60)\n",
    "k_scores = []\n",
    "for k in k_range:\n",
    "    knn = KNeighborsClassifier(n_neighbors=k)\n",
    "    cv_scores = cross_val_score(knn,x,y,cv = 10,scoring='accuracy')\n",
    "    k_scores.append(cv_scores.mean())\n",
    "    print('for no of neighbours = %s the cv mean score is %f' %(k,cv_scores.mean()))"
   ]
  },
  {
   "cell_type": "code",
   "execution_count": 7,
   "metadata": {
    "collapsed": false
   },
   "outputs": [
    {
     "data": {
      "text/plain": [
       "[<matplotlib.lines.Line2D at 0x1811cda79b0>]"
      ]
     },
     "execution_count": 7,
     "metadata": {},
     "output_type": "execute_result"
    },
    {
     "data": {
      "image/png": "[encoded data removed]",
      "text/plain": [
       "<matplotlib.figure.Figure at 0x1811a1e5f98>"
      ]
     },
     "metadata": {},
     "output_type": "display_data"
    }
   ],
   "source": [
    "plt.plot(k_range,k_scores)"
   ]
  },
  {
   "cell_type": "markdown",
   "metadata": {},
   "source": [
    "##### From the above plot we can see that the sv score maximum when no of neighbours is equals to 13,18,20 .. lesser the neighbours more the chance of overfitting so we will go with n_neigbours = 20"
   ]
  },
  {
   "cell_type": "markdown",
   "metadata": {},
   "source": [
    "## Grid search cv for parameter tuning"
   ]
  },
  {
   "cell_type": "code",
   "execution_count": 33,
   "metadata": {
    "collapsed": true
   },
   "outputs": [],
   "source": [
    "from sklearn.grid_search import GridSearchCV,RandomizedSearchCV"
   ]
  },
  {
   "cell_type": "code",
   "execution_count": 9,
   "metadata": {
    "collapsed": false
   },
   "outputs": [
    {
     "name": "stdout",
     "output_type": "stream",
     "text": [
      "{'n_neighbors': [2, 3, 4, 5, 6, 7, 8, 9, 10, 11, 12, 13, 14, 15, 16, 17, 18, 19, 20, 21, 22, 23, 24, 25, 26, 27, 28, 29, 30, 31, 32, 33, 34, 35, 36, 37, 38, 39, 40, 41, 42, 43, 44, 45, 46, 47, 48, 49, 50, 51, 52, 53, 54, 55, 56, 57, 58, 59]}\n"
     ]
    }
   ],
   "source": [
    "grid_param = dict(n_neighbors = list(k_range))\n",
    "print(grid_param)"
   ]
  },
  {
   "cell_type": "code",
   "execution_count": 10,
   "metadata": {
    "collapsed": false
   },
   "outputs": [],
   "source": [
    "grid = GridSearchCV(knn,grid_param,cv = 10,scoring = 'accuracy',n_jobs= -1)"
   ]
  },
  {
   "cell_type": "code",
   "execution_count": 11,
   "metadata": {
    "collapsed": false
   },
   "outputs": [
    {
     "data": {
      "text/plain": [
       "GridSearchCV(cv=10, error_score='raise',\n",
       "       estimator=KNeighborsClassifier(algorithm='auto', leaf_size=30, metric='minkowski',\n",
       "           metric_params=None, n_jobs=1, n_neighbors=59, p=2,\n",
       "           weights='uniform'),\n",
       "       fit_params={}, iid=True, n_jobs=-1,\n",
       "       param_grid={'n_neighbors': [2, 3, 4, 5, 6, 7, 8, 9, 10, 11, 12, 13, 14, 15, 16, 17, 18, 19, 20, 21, 22, 23, 24, 25, 26, 27, 28, 29, 30, 31, 32, 33, 34, 35, 36, 37, 38, 39, 40, 41, 42, 43, 44, 45, 46, 47, 48, 49, 50, 51, 52, 53, 54, 55, 56, 57, 58, 59]},\n",
       "       pre_dispatch='2*n_jobs', refit=True, scoring='accuracy', verbose=0)"
      ]
     },
     "execution_count": 11,
     "metadata": {},
     "output_type": "execute_result"
    }
   ],
   "source": [
    "grid.fit(x,y)"
   ]
  },
  {
   "cell_type": "code",
   "execution_count": 12,
   "metadata": {
    "collapsed": false
   },
   "outputs": [
    {
     "name": "stdout",
     "output_type": "stream",
     "text": [
      "0.98\n",
      "{'n_neighbors': 13}\n",
      "KNeighborsClassifier(algorithm='auto', leaf_size=30, metric='minkowski',\n",
      "           metric_params=None, n_jobs=1, n_neighbors=13, p=2,\n",
      "           weights='uniform')\n"
     ]
    }
   ],
   "source": [
    "print(grid.best_score_)\n",
    "print(grid.best_params_)\n",
    "print(grid.best_estimator_)"
   ]
  },
  {
   "cell_type": "code",
   "execution_count": 13,
   "metadata": {
    "collapsed": false
   },
   "outputs": [
    {
     "name": "stdout",
     "output_type": "stream",
     "text": [
      "[ 1.          0.93333333  1.          0.93333333  0.86666667  1.\n",
      "  0.93333333  1.          1.          1.        ]\n",
      "{'n_neighbors': 3}\n",
      "0.966666666667\n"
     ]
    }
   ],
   "source": [
    "print(grid.grid_scores_[1].cv_validation_scores)\n",
    "print(grid.grid_scores_[1].parameters)\n",
    "print(grid.grid_scores_[1].mean_validation_score)"
   ]
  },
  {
   "cell_type": "code",
   "execution_count": 14,
   "metadata": {
    "collapsed": false
   },
   "outputs": [],
   "source": [
    "grid_mean_scores = [result.mean_validation_score for result in grid.grid_scores_]"
   ]
  },
  {
   "cell_type": "code",
   "execution_count": 15,
   "metadata": {
    "collapsed": false
   },
   "outputs": [
    {
     "data": {
      "text/plain": [
       "[<matplotlib.lines.Line2D at 0x1811ce833c8>]"
      ]
     },
     "execution_count": 15,
     "metadata": {},
     "output_type": "execute_result"
    },
    {
     "data": {
      "image/png": "[encoded data removed]",
      "text/plain": [
       "<matplotlib.figure.Figure at 0x1811cc83320>"
      ]
     },
     "metadata": {},
     "output_type": "display_data"
    }
   ],
   "source": [
    "plt.plot(k_range,grid_mean_scores)"
   ]
  },
  {
   "cell_type": "code",
   "execution_count": 16,
   "metadata": {
    "collapsed": true
   },
   "outputs": [],
   "source": [
    "weights = ['uniform','distance']"
   ]
  },
  {
   "cell_type": "code",
   "execution_count": 24,
   "metadata": {
    "collapsed": false
   },
   "outputs": [],
   "source": [
    "grid_param1 = dict(n_neighbors = list(k_range),weights = weights )"
   ]
  },
  {
   "cell_type": "code",
   "execution_count": 25,
   "metadata": {
    "collapsed": false
   },
   "outputs": [],
   "source": [
    "grid1 = GridSearchCV(knn,grid_param1,cv = 10, scoring = 'accuracy', n_jobs=-1) "
   ]
  },
  {
   "cell_type": "code",
   "execution_count": 29,
   "metadata": {
    "collapsed": false
   },
   "outputs": [
    {
     "data": {
      "text/plain": [
       "GridSearchCV(cv=10, error_score='raise',\n",
       "       estimator=KNeighborsClassifier(algorithm='auto', leaf_size=30, metric='minkowski',\n",
       "           metric_params=None, n_jobs=1, n_neighbors=59, p=2,\n",
       "           weights='uniform'),\n",
       "       fit_params={}, iid=True, n_jobs=-1,\n",
       "       param_grid={'n_neighbors': [2, 3, 4, 5, 6, 7, 8, 9, 10, 11, 12, 13, 14, 15, 16, 17, 18, 19, 20, 21, 22, 23, 24, 25, 26, 27, 28, 29, 30, 31, 32, 33, 34, 35, 36, 37, 38, 39, 40, 41, 42, 43, 44, 45, 46, 47, 48, 49, 50, 51, 52, 53, 54, 55, 56, 57, 58, 59], 'weights': ['uniform', 'distance']},\n",
       "       pre_dispatch='2*n_jobs', refit=True, scoring='accuracy', verbose=0)"
      ]
     },
     "execution_count": 29,
     "metadata": {},
     "output_type": "execute_result"
    }
   ],
   "source": [
    "grid1.fit(x,y)"
   ]
  },
  {
   "cell_type": "code",
   "execution_count": 32,
   "metadata": {
    "collapsed": false
   },
   "outputs": [
    {
     "name": "stdout",
     "output_type": "stream",
     "text": [
      "0.98\n",
      "{'n_neighbors': 13, 'weights': 'uniform'}\n",
      "KNeighborsClassifier(algorithm='auto', leaf_size=30, metric='minkowski',\n",
      "           metric_params=None, n_jobs=1, n_neighbors=13, p=2,\n",
      "           weights='uniform')\n"
     ]
    }
   ],
   "source": [
    "print(grid1.best_score_)\n",
    "print(grid1.best_params_)\n",
    "print(grid1.best_estimator_)"
   ]
  },
  {
   "cell_type": "code",
   "execution_count": 34,
   "metadata": {
    "collapsed": false
   },
   "outputs": [
    {
     "data": {
      "text/plain": [
       "RandomizedSearchCV(cv=10, error_score='raise',\n",
       "          estimator=KNeighborsClassifier(algorithm='auto', leaf_size=30, metric='minkowski',\n",
       "           metric_params=None, n_jobs=1, n_neighbors=59, p=2,\n",
       "           weights='uniform'),\n",
       "          fit_params={}, iid=True, n_iter=10, n_jobs=-1,\n",
       "          param_distributions={'n_neighbors': [2, 3, 4, 5, 6, 7, 8, 9, 10, 11, 12, 13, 14, 15, 16, 17, 18, 19, 20, 21, 22, 23, 24, 25, 26, 27, 28, 29, 30, 31, 32, 33, 34, 35, 36, 37, 38, 39, 40, 41, 42, 43, 44, 45, 46, 47, 48, 49, 50, 51, 52, 53, 54, 55, 56, 57, 58, 59], 'weights': ['uniform', 'distance']},\n",
       "          pre_dispatch='2*n_jobs', random_state=None, refit=True,\n",
       "          scoring='accuracy', verbose=0)"
      ]
     },
     "execution_count": 34,
     "metadata": {},
     "output_type": "execute_result"
    }
   ],
   "source": [
    "grid_param2 = dict(n_neighbors = list(k_range),weights = weights )\n",
    "grid2 = RandomizedSearchCV(knn,grid_param1,cv = 10, scoring = 'accuracy', n_jobs=-1) \n",
    "grid2.fit(x,y)"
   ]
  },
  {
   "cell_type": "code",
   "execution_count": 40,
   "metadata": {
    "collapsed": false
   },
   "outputs": [
    {
     "data": {
      "text/plain": [
       "[mean: 0.95333, std: 0.04269, params: {'n_neighbors': 29, 'weights': 'uniform'},\n",
       " mean: 0.95333, std: 0.04269, params: {'n_neighbors': 56, 'weights': 'distance'},\n",
       " mean: 0.97333, std: 0.03266, params: {'n_neighbors': 13, 'weights': 'distance'},\n",
       " mean: 0.90667, std: 0.06110, params: {'n_neighbors': 56, 'weights': 'uniform'},\n",
       " mean: 0.95333, std: 0.04269, params: {'n_neighbors': 40, 'weights': 'uniform'},\n",
       " mean: 0.96000, std: 0.03266, params: {'n_neighbors': 51, 'weights': 'distance'},\n",
       " mean: 0.94000, std: 0.04667, params: {'n_neighbors': 49, 'weights': 'uniform'},\n",
       " mean: 0.96000, std: 0.04422, params: {'n_neighbors': 26, 'weights': 'uniform'},\n",
       " mean: 0.96000, std: 0.03266, params: {'n_neighbors': 59, 'weights': 'distance'},\n",
       " mean: 0.98000, std: 0.03055, params: {'n_neighbors': 18, 'weights': 'uniform'}]"
      ]
     },
     "execution_count": 40,
     "metadata": {},
     "output_type": "execute_result"
    }
   ],
   "source": [
    "grid2.grid_scores_"
   ]
  },
  {
   "cell_type": "markdown",
   "metadata": {},
   "source": [
    "### Parameter tuning in Random forest for iris data set"
   ]
  },
  {
   "cell_type": "markdown",
   "metadata": {},
   "source": [
    "#### Lets first try and check how fast gridsearchcv works"
   ]
  },
  {
   "cell_type": "code",
   "execution_count": 48,
   "metadata": {
    "collapsed": false
   },
   "outputs": [],
   "source": [
    "from sklearn.ensemble import RandomForestClassifier\n",
    "import datetime"
   ]
  },
  {
   "cell_type": "code",
   "execution_count": 64,
   "metadata": {
    "collapsed": false
   },
   "outputs": [
    {
     "name": "stdout",
     "output_type": "stream",
     "text": [
      "Gridsearch run time is 0:00:17.464382\n"
     ]
    }
   ],
   "source": [
    "\n",
    "RF = RandomForestClassifier()\n",
    "grid3 = {\"max_depth\": [1,2,3, None],\n",
    "              \"max_features\": ['auto',\"sqrt\",\"log2\"],\n",
    "              \"min_samples_split\": [1, 3],\n",
    "              \"min_samples_leaf\": [1, 3],\n",
    "              \"bootstrap\": [True, False],\n",
    "              \"criterion\": [\"gini\", \"entropy\"]}\n",
    "Time =  datetime.datetime.now()\n",
    "RF_Grid = GridSearchCV(RF,grid3,cv = 10,scoring = 'accuracy',n_jobs = -1)\n",
    "RF_Grid.fit(x,y)\n",
    "print('Gridsearch run time is %s' %(datetime.datetime.now()-Time))"
   ]
  },
  {
   "cell_type": "markdown",
   "metadata": {},
   "source": [
    "### Lets look at the gridsearch results"
   ]
  },
  {
   "cell_type": "code",
   "execution_count": 65,
   "metadata": {
    "collapsed": false
   },
   "outputs": [
    {
     "name": "stdout",
     "output_type": "stream",
     "text": [
      "0.966666666667\n",
      "{'max_features': 'auto', 'min_samples_split': 1, 'max_depth': 2, 'min_samples_leaf': 1, 'bootstrap': True, 'criterion': 'gini'}\n",
      "RandomForestClassifier(bootstrap=True, class_weight=None, criterion='gini',\n",
      "            max_depth=2, max_features='auto', max_leaf_nodes=None,\n",
      "            min_samples_leaf=1, min_samples_split=1,\n",
      "            min_weight_fraction_leaf=0.0, n_estimators=10, n_jobs=1,\n",
      "            oob_score=False, random_state=None, verbose=0,\n",
      "            warm_start=False)\n"
     ]
    }
   ],
   "source": [
    "print(RF_Grid.best_score_)\n",
    "print(RF_Grid.best_params_)\n",
    "print(RF_Grid.best_estimator_)"
   ]
  },
  {
   "cell_type": "markdown",
   "metadata": {},
   "source": [
    "#### Lets try with Randomsearchcv"
   ]
  },
  {
   "cell_type": "code",
   "execution_count": 75,
   "metadata": {
    "collapsed": false
   },
   "outputs": [
    {
     "name": "stdout",
     "output_type": "stream",
     "text": [
      "RandomsearchCV run time is 0:00:03.828215\n"
     ]
    }
   ],
   "source": [
    "Time =  datetime.datetime.now()\n",
    "RF_Rand = RandomizedSearchCV(RF,grid3,cv = 10,scoring = 'accuracy',n_jobs = -1,n_iter = 10)\n",
    "RF_Rand.fit(x,y)\n",
    "print('RandomsearchCV run time is %s' %(datetime.datetime.now()-Time))"
   ]
  },
  {
   "cell_type": "markdown",
   "metadata": {},
   "source": [
    "##### We can see that RandomsearchCV takes 14 seconds less than Gridsearchcv, whihc shows that RandomsearchCV is more time effiecient algorithm"
   ]
  },
  {
   "cell_type": "markdown",
   "metadata": {},
   "source": [
    "##### Lets look at RnadomizedsearchCV results"
   ]
  },
  {
   "cell_type": "code",
   "execution_count": 67,
   "metadata": {
    "collapsed": false
   },
   "outputs": [
    {
     "name": "stdout",
     "output_type": "stream",
     "text": [
      "0.966666666667\n",
      "{'max_features': 'sqrt', 'min_samples_split': 3, 'max_depth': 3, 'min_samples_leaf': 3, 'bootstrap': False, 'criterion': 'gini'}\n",
      "RandomForestClassifier(bootstrap=False, class_weight=None, criterion='gini',\n",
      "            max_depth=3, max_features='sqrt', max_leaf_nodes=None,\n",
      "            min_samples_leaf=3, min_samples_split=3,\n",
      "            min_weight_fraction_leaf=0.0, n_estimators=10, n_jobs=1,\n",
      "            oob_score=False, random_state=None, verbose=0,\n",
      "            warm_start=False)\n"
     ]
    }
   ],
   "source": [
    "print(RF_Rand.best_score_)\n",
    "print(RF_Rand.best_params_)\n",
    "print(RF_Rand.best_estimator_)"
   ]
  },
  {
   "cell_type": "markdown",
   "metadata": {},
   "source": [
    "##### Once you find out the best parameters always try to fit the model again using all the data available..and then try to predict the out of sample data.. However GridsearchCV and RandomsizedsearchCV will automatically fit the model on complete data once it finds the best tunned parameters so we can direclty use it to predict out of sample data."
   ]
  },
  {
   "cell_type": "code",
   "execution_count": 68,
   "metadata": {
    "collapsed": false
   },
   "outputs": [
    {
     "name": "stderr",
     "output_type": "stream",
     "text": [
      "C:\\Anaconda3\\lib\\site-packages\\sklearn\\utils\\validation.py:386: DeprecationWarning: Passing 1d arrays as data is deprecated in 0.17 and willraise ValueError in 0.19. Reshape your data either using X.reshape(-1, 1) if your data has a single feature or X.reshape(1, -1) if it contains a single sample.\n",
      "  DeprecationWarning)\n"
     ]
    },
    {
     "data": {
      "text/plain": [
       "array([1])"
      ]
     },
     "execution_count": 68,
     "metadata": {},
     "output_type": "execute_result"
    }
   ],
   "source": [
    "RF_Grid.predict([3,5,4,2])"
   ]
  },
  {
   "cell_type": "code",
   "execution_count": 72,
   "metadata": {
    "collapsed": false
   },
   "outputs": [
    {
     "name": "stderr",
     "output_type": "stream",
     "text": [
      "C:\\Anaconda3\\lib\\site-packages\\sklearn\\utils\\validation.py:386: DeprecationWarning: Passing 1d arrays as data is deprecated in 0.17 and willraise ValueError in 0.19. Reshape your data either using X.reshape(-1, 1) if your data has a single feature or X.reshape(1, -1) if it contains a single sample.\n",
      "  DeprecationWarning)\n"
     ]
    },
    {
     "data": {
      "text/plain": [
       "array([0])"
      ]
     },
     "execution_count": 72,
     "metadata": {},
     "output_type": "execute_result"
    }
   ],
   "source": [
    "RF_Rand.predict([3,5,0,0])"
   ]
  },
  {
   "cell_type": "code",
   "execution_count": null,
   "metadata": {
    "collapsed": true
   },
   "outputs": [],
   "source": []
  }
 ],
 "metadata": {
  "kernelspec": {
   "display_name": "Python 3",
   "language": "python",
   "name": "python3"
  },
  "language_info": {
   "codemirror_mode": {
    "name": "ipython",
    "version": 3
   },
   "file_extension": ".py",
   "mimetype": "text/x-python",
   "name": "python",
   "nbconvert_exporter": "python",
   "pygments_lexer": "ipython3",
   "version": "3.5.1"
  }
 },
 "nbformat": 4,
 "nbformat_minor": 0
}
